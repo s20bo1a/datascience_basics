{
 "cells": [
  {
   "cell_type": "code",
   "execution_count": 23,
   "id": "ea345c9e",
   "metadata": {},
   "outputs": [
    {
     "name": "stdout",
     "output_type": "stream",
     "text": [
      "enter a number6\n",
      "I cannnot fight those ninjas!\n"
     ]
    }
   ],
   "source": [
    "x=int(input(\"enter a number\")) \n",
    "\n",
    "if (x < 50 and x > 30):\n",
    "    print (\"\"\"That's to many\"\"\")\n",
    "elif (x < 30 and x > 10):\n",
    "    print (\"\"\"It'll struggle ,but I can take 'em\"\"\" )\n",
    "elif (x<10):\n",
    "    print (\"I cannnot fight those ninjas!\")"
   ]
  },
  {
   "cell_type": "code",
   "execution_count": 38,
   "id": "14e0116b",
   "metadata": {},
   "outputs": [
    {
     "name": "stdout",
     "output_type": "stream",
     "text": [
      "enter a value75\n",
      "B\n"
     ]
    }
   ],
   "source": [
    "a=int(input(\"enter a value\"))\n",
    "if(80<=a<=100) :\n",
    "    print (\"A\")\n",
    "elif(70<= a <=79): \n",
    "    print (\"B\")\n",
    "elif(60<=a<=69):\n",
    "    print (\"C\")\n",
    "elif(50<=a<=59):\n",
    "    print(\"D\")\n",
    "else:\n",
    "    print(\"F\")"
   ]
  },
  {
   "cell_type": "code",
   "execution_count": 32,
   "id": "38da834e",
   "metadata": {},
   "outputs": [
    {
     "name": "stdout",
     "output_type": "stream",
     "text": [
      "enter height6\n",
      "heathy\n"
     ]
    }
   ],
   "source": [
    "h=int(input(\"enter height\")) \n",
    "l=720/(h*h)\n",
    "if(l>=19 and l<=25):\n",
    "    print (\"heathy\")\n",
    "elif(l<19):\n",
    "    print(\"Unheathy\")\n",
    "elif(l>25):\n",
    "    print(\"overnutrietious\")\n",
    "    "
   ]
  },
  {
   "cell_type": "code",
   "execution_count": 195,
   "id": "f8188213",
   "metadata": {},
   "outputs": [
    {
     "name": "stdout",
     "output_type": "stream",
     "text": [
      "28\n",
      "perfect numbers 58 [6, 24, 28]\n",
      "deficient numbers 1113 [2, 3, 4, 4, 5, 6, 6, 7, 8, 8, 8, 9, 9, 10, 10, 10, 11, 12, 12, 12, 12, 13, 14, 14, 14, 15, 15, 15, 16, 16, 16, 16, 17, 18, 18, 18, 18, 19, 20, 20, 20, 20, 21, 21, 21, 22, 22, 22, 23, 24, 24, 24, 24, 24, 25, 25, 26, 26, 26, 27, 27, 27, 28, 28, 28, 28]\n",
      "abundant numbers 74 [12, 18, 20, 24]\n"
     ]
    }
   ],
   "source": [
    "\n",
    "num=int(input())\n",
    "s1=0\n",
    "s2=0\n",
    "s3=0\n",
    "perfect,deficient,abundant=[],[],[] \n",
    "for k in range(num+1):   \n",
    "    m=[]\n",
    "    m=[i for i in range(1,k) if k%i==0]\n",
    "    total=0 \n",
    "    for i in range(len(m)):\n",
    "        total=total+m[i]\n",
    "        if total==k:\n",
    "            perfect.append(k)\n",
    "        elif total<k:\n",
    "            deficient.append(k)\n",
    "        elif total>k:\n",
    "            abundant.append(k)\n",
    "\n",
    "for i in perfect:\n",
    "    s1=s1+i\n",
    "for i in deficient:\n",
    "    s2=s2+i\n",
    "for i in abundant:\n",
    "    s3=s3+i\n",
    "print(\"perfect numbers\",s1,perfect)\n",
    "print(\"deficient numbers\",s2,deficient)\n",
    "print(\"abundant numbers\",s3,abundant)"
   ]
  },
  {
   "cell_type": "code",
   "execution_count": 196,
   "id": "e1400bf0",
   "metadata": {},
   "outputs": [
    {
     "name": "stdout",
     "output_type": "stream",
     "text": [
      "2+22+222\n",
      "246\n"
     ]
    }
   ],
   "source": [
    "num=input()\n",
    "lst=list(map(int,num.split('+')))\n",
    "total=0\n",
    "for i in range(len(lst)):\n",
    "    total=total+lst[i]\n",
    "print(total)"
   ]
  },
  {
   "cell_type": "code",
   "execution_count": 155,
   "id": "71ab3504",
   "metadata": {},
   "outputs": [
    {
     "name": "stdout",
     "output_type": "stream",
     "text": [
      "Counter({'d': 9, 'g': 8, 'r': 7, 'q': 6, 'k': 6, 'b': 6, 'c': 6, 'w': 5, 'z': 5, 'j': 5, 'v': 4, 'f': 4, 'a': 4, 'i': 3, 'y': 3, 's': 3, 'u': 3, 'n': 3, 'o': 2, 'm': 2, 't': 2, 'l': 1, 'p': 1, 'h': 1, 'e': 1})\n"
     ]
    }
   ],
   "source": [
    "import random \n",
    "from collections import Counter\n",
    "chars=[]\n",
    "for i in range(100):\n",
    "    chars.append(random.choice(['a','b','c','d','e','f','g','h','i','j','k','l','m','n','o','p','q','r','s','t','u','v','w','y','z']))\n",
    "print(Counter(chars))  \n"
   ]
  },
  {
   "cell_type": "code",
   "execution_count": 149,
   "id": "c08a43bf",
   "metadata": {},
   "outputs": [
    {
     "name": "stdout",
     "output_type": "stream",
     "text": [
      "sirisha\n",
      "sirha\n"
     ]
    }
   ],
   "source": [
    "def remove_duplicates(x): \n",
    "    s1=\"\"\n",
    "    for i in x:\n",
    "        if i not in s1:\n",
    "            s1+=i\n",
    "    return s1\n",
    "print(remove_duplicates(input()))"
   ]
  },
  {
   "cell_type": "code",
   "execution_count": 145,
   "id": "feb15976",
   "metadata": {},
   "outputs": [
    {
     "name": "stdout",
     "output_type": "stream",
     "text": [
      "2 4 6 7 8\n",
      "7\n",
      "6\n"
     ]
    }
   ],
   "source": [
    "def closest(L,n): \n",
    "    m=max(L)  \n",
    "    if(m<n):\n",
    "        return m\n",
    "    else:\n",
    "        while(m>=n):\n",
    "            L.remove(m)\n",
    "            m=max(L)\n",
    "    return m\n",
    "    \n",
    "print(closest(list(map(int,input().split())),int(input())))    \n",
    "    "
   ]
  }
 ],
 "metadata": {
  "kernelspec": {
   "display_name": "Python 3 (ipykernel)",
   "language": "python",
   "name": "python3"
  },
  "language_info": {
   "codemirror_mode": {
    "name": "ipython",
    "version": 3
   },
   "file_extension": ".py",
   "mimetype": "text/x-python",
   "name": "python",
   "nbconvert_exporter": "python",
   "pygments_lexer": "ipython3",
   "version": "3.9.12"
  }
 },
 "nbformat": 4,
 "nbformat_minor": 5
}
